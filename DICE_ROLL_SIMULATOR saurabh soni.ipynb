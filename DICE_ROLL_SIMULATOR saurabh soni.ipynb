{
 "cells": [
  {
   "cell_type": "markdown",
   "metadata": {
    "id": "Wv1JUmWT83j4"
   },
   "source": [
    "**create a classic rolling dice simulator with the help of basic Python knowledge. Here we will be using the random module since we randomize the dice simulator for random outputs.**\n",
    "[If user input is equal to the random number print you win the game and if random value does not match with user then you loses]"
   ]
  },
  {
   "cell_type": "code",
   "execution_count": 8,
   "metadata": {
    "id": "XUWXteY09jwo"
   },
   "outputs": [
    {
     "name": "stdout",
     "output_type": "stream",
     "text": [
      "Guess any number from 1 to 6.\n",
      "We will roll the DICE and if same number comes you win otherwise you lose.\n",
      "Enter your guess:5\n",
      "ROLLING THE DICE!!!!\n",
      "Your guessed number: 5\n",
      "Rolled dice number: 1\n",
      "YOU LOSE!!\n"
     ]
    }
   ],
   "source": [
    "import time\n",
    "import random\n",
    "\n",
    "def dice():\n",
    "    return random.randint(1,6)\n",
    "\n",
    "print(\"Guess any number from 1 to 6.\")\n",
    "print(\"We will roll the DICE and if same number comes you win otherwise you lose.\")\n",
    "\n",
    "guess = int(input(\"Enter your guess:\"))\n",
    "print(\"ROLLING THE DICE!!!!\")\n",
    "time.sleep(2)\n",
    "dice_num = dice()\n",
    "\n",
    "if guess == dice_num:\n",
    "    print(\"Your guessed number:\",guess)\n",
    "    print(\"Rolled dice number:\",dice_num)\n",
    "    print(\"YOU WIN!!\")\n",
    "else:\n",
    "    print(\"Your guessed number:\",guess)\n",
    "    print(\"Rolled dice number:\",dice_num)\n",
    "    print(\"YOU LOSE!!\")"
   ]
  }
 ],
 "metadata": {
  "colab": {
   "name": "DICE_ROLL_SIMULATOR.ipynb",
   "provenance": []
  },
  "kernelspec": {
   "display_name": "Python 3",
   "language": "python",
   "name": "python3"
  },
  "language_info": {
   "codemirror_mode": {
    "name": "ipython",
    "version": 3
   },
   "file_extension": ".py",
   "mimetype": "text/x-python",
   "name": "python",
   "nbconvert_exporter": "python",
   "pygments_lexer": "ipython3",
   "version": "3.8.8"
  }
 },
 "nbformat": 4,
 "nbformat_minor": 1
}
