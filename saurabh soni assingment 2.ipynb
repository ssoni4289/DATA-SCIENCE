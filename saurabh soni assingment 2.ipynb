{
 "cells": [
  {
   "cell_type": "markdown",
   "metadata": {
    "id": "fHdKaCYoaCha"
   },
   "source": [
    "### Assignment -2 (Given on: 05-Sep-2021)\n",
    "##### Deadline: 11-Sep-2021\n",
    "##### Submit assign. here: https://docs.google.com/forms/d/e/1FAIpQLSeY0MZugzSerAtqJYcHV1TVi9xifUATR_rsCjM3foey-mPrvA/viewform?usp=sf_link\n",
    "\n",
    "##### Mini Project link: https://drive.google.com/drive/folders/1WPeUXsOd4Rr9WakC0oUO5RfhetjY3DFL?usp=sharing\n",
    "\n",
    "##### Submit Mini Project here: https://docs.google.com/forms/d/e/1FAIpQLSflNrxcnWFum9tHjdMYJoaXod2Eh2H-X_heauM2sot2leLC8g/viewform?usp=sf_link"
   ]
  },
  {
   "cell_type": "markdown",
   "metadata": {
    "id": "Bn4mWQiaWLBr"
   },
   "source": [
    "### Find numbers which have 13 as factor for below list using List Comprehension : \n",
    "numbers = [13, 5, 9, 25, 65, 71, 81, 91]\n"
   ]
  },
  {
   "cell_type": "code",
   "execution_count": 5,
   "metadata": {
    "id": "Rmr6Ug6AB6sM"
   },
   "outputs": [
    {
     "name": "stdout",
     "output_type": "stream",
     "text": [
      "13  is having 13 as factor.\n",
      "65  is having 13 as factor.\n",
      "91  is having 13 as factor.\n"
     ]
    }
   ],
   "source": [
    "numbers = [13, 5, 9, 25, 65, 71, 81, 91]\n",
    "\n",
    "def find_factors(x):\n",
    "   for i in range(1, x + 1):\n",
    "       if x % i == 0:\n",
    "           if i == 13:\n",
    "              print(x,\" is having 13 as factor.\")\n",
    "\n",
    "for i in numbers:\n",
    "    find_factors(i)\n"
   ]
  },
  {
   "cell_type": "markdown",
   "metadata": {
    "id": "udF_cTfcXByJ"
   },
   "source": [
    "### Write a Python script to concatenate following dictionaries to create a new one\n",
    "#### Input\n",
    "\n",
    "dic1={1:10, 2:20}\n",
    "\n",
    "dic2={3:30, 4:40}\n",
    "\n",
    "dic3={5:50,6:60}"
   ]
  },
  {
   "cell_type": "code",
   "execution_count": 3,
   "metadata": {
    "id": "TrtMp6M6XHUY"
   },
   "outputs": [
    {
     "name": "stdout",
     "output_type": "stream",
     "text": [
      "{1: 10, 2: 20, 3: 30, 4: 40, 5: 50, 6: 60}\n"
     ]
    }
   ],
   "source": [
    "dic1={1:10, 2:20}\n",
    "\n",
    "dic2={3:30, 4:40}\n",
    "\n",
    "dic3={5:50,6:60}\n",
    "\n",
    "newdict = {}\n",
    "for i in (dic1, dic2, dic3): \n",
    "    newdict.update(i)\n",
    "print(newdict)"
   ]
  },
  {
   "cell_type": "markdown",
   "metadata": {
    "id": "WjFvEJMPWXq5"
   },
   "source": [
    "### Given a list of products : [\"gold\", \"mobile\", \"refrigerator\", \"ac\", \"coat\", \"shirt\", \"nail polish\", \"shoes\"]\n",
    "\n",
    "you have to levy 20% gst on electronic products and 5% on non-electronic. Make it using a function.\n",
    "Ask product name and price from the user for now\n"
   ]
  },
  {
   "cell_type": "code",
   "execution_count": 12,
   "metadata": {
    "id": "rnNYpBJpB6uv"
   },
   "outputs": [
    {
     "name": "stdout",
     "output_type": "stream",
     "text": [
      "List of products: ['gold', 'mobile', 'refrigerator', 'ac', 'coat', 'shirt', 'nail polish', 'shoes']\n",
      "enter product name:coat\n",
      "enter price:700\n",
      "Price with gst: 735.0\n"
     ]
    }
   ],
   "source": [
    "productlist = [\"gold\", \"mobile\", \"refrigerator\", \"ac\", \"coat\", \"shirt\", \"nail polish\", \"shoes\"]\n",
    "print(\"List of products:\",productlist)\n",
    "def calculate(product , price):\n",
    "    for i in range(len(productlist)):\n",
    "        if productlist[i] == product:\n",
    "            if i == 1 or i == 2 or i == 3:\n",
    "                price = price*1.2\n",
    "                break\n",
    "            else:\n",
    "                price = price*1.05\n",
    "                break\n",
    "    return price\n",
    "    \n",
    "    \n",
    "    \n",
    "product = input(\"enter product name:\")\n",
    "price = float(input(\"enter price:\"))\n",
    "newprice=calculate(product,price)\n",
    "print(\"Price with gst:\",newprice)"
   ]
  },
  {
   "cell_type": "markdown",
   "metadata": {
    "id": "AEkAyT49XeiY"
   },
   "source": [
    "### Shopping List App \n",
    "\n",
    "    We are going to make a \"Shopping List\" app. \n",
    "    Run the script to start using it.\n",
    "    Put new things into the list one at a time\n",
    "    Enter the word DONE in all caps to quit the program\n",
    "    And once i quit, I want the app to show me everything thats on my list.\n",
    "\n",
    "Hint 1\n",
    "    \n",
    "    Step 1: Make a list to hold onto our items.\n",
    "    Step 2: Print out instructions on how to use the app\n",
    "    Step 3: Ask for new items\n",
    "    Step 4: Add new items to our list\n",
    "    Step 5: Be able to quit the app with DONE\n",
    "    Step 6: print out the list\n"
   ]
  },
  {
   "cell_type": "code",
   "execution_count": 14,
   "metadata": {
    "id": "diaOVsBKB6xF"
   },
   "outputs": [
    {
     "name": "stdout",
     "output_type": "stream",
     "text": [
      "Shopping list.Instruction: Enter product name to add. When finished type DONE.\n",
      "Enter New Item:apple\n",
      "Enter New Item:banana\n",
      "Enter New Item:mango\n",
      "Enter New Item:DONE\n",
      "Your list: ['apple', 'banana', 'mango']\n"
     ]
    }
   ],
   "source": [
    "print(\"Shopping list.Instruction: Enter product name to add. When finished type DONE.\")\n",
    "shoplist = []\n",
    "while True:\n",
    "    Item = input(\"Enter New Item:\")\n",
    "    if Item == 'DONE':\n",
    "        break\n",
    "    else:\n",
    "        shoplist.append(Item)\n",
    "\n",
    "print(\"Your list:\",shoplist)\n",
    "        \n",
    "        \n",
    "        "
   ]
  },
  {
   "cell_type": "markdown",
   "metadata": {
    "id": "WKZQ6uFgYuUT"
   },
   "source": [
    "### Create nested functions to do the following tasks:\n",
    "Create an outer function that will accept two parameters, a and b\n",
    "\n",
    "Create an inner function inside an outer function that will calculate the addition of a and b\n",
    "\n",
    "At last, an outer function will add 5 into addition and return it"
   ]
  },
  {
   "cell_type": "code",
   "execution_count": 20,
   "metadata": {
    "id": "k9AWikduB6zd"
   },
   "outputs": [
    {
     "name": "stdout",
     "output_type": "stream",
     "text": [
      "Enter first number:2\n",
      "Enter second number:9\n",
      "Desired outpur 16\n"
     ]
    }
   ],
   "source": [
    "def outer_function(a,b):\n",
    "    def addition(a,b):\n",
    "        return a+b\n",
    "    return addition(a,b)\n",
    "    \n",
    "def outer_function_1(c):\n",
    "    return c+5\n",
    "\n",
    "a1 = int(input(\"Enter first number:\"))\n",
    "a2 = int(input(\"Enter second number:\"))\n",
    "print(\"Desired outpur\",outer_function_1(outer_function(a1,a2)))"
   ]
  },
  {
   "cell_type": "code",
   "execution_count": null,
   "metadata": {
    "id": "Fkq88AJAB64h"
   },
   "outputs": [],
   "source": []
  }
 ],
 "metadata": {
  "colab": {
   "name": "Home_Assignment_2.ipynb",
   "provenance": []
  },
  "kernelspec": {
   "display_name": "Python 3",
   "language": "python",
   "name": "python3"
  },
  "language_info": {
   "codemirror_mode": {
    "name": "ipython",
    "version": 3
   },
   "file_extension": ".py",
   "mimetype": "text/x-python",
   "name": "python",
   "nbconvert_exporter": "python",
   "pygments_lexer": "ipython3",
   "version": "3.8.8"
  }
 },
 "nbformat": 4,
 "nbformat_minor": 1
}
