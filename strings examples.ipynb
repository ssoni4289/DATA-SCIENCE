{
 "cells": [
  {
   "cell_type": "code",
   "execution_count": 2,
   "id": "5103b129",
   "metadata": {},
   "outputs": [
    {
     "name": "stdout",
     "output_type": "stream",
     "text": [
      "5\n"
     ]
    }
   ],
   "source": [
    "txt='hello'\n",
    "print(len(txt))"
   ]
  },
  {
   "cell_type": "code",
   "execution_count": 3,
   "id": "98a94ffa",
   "metadata": {},
   "outputs": [
    {
     "name": "stdout",
     "output_type": "stream",
     "text": [
      "8\n"
     ]
    }
   ],
   "source": [
    "txt1='computer'\n",
    "print(len(txt1))"
   ]
  },
  {
   "cell_type": "code",
   "execution_count": 4,
   "id": "6b4fea41",
   "metadata": {},
   "outputs": [
    {
     "name": "stdout",
     "output_type": "stream",
     "text": [
      "mp\n"
     ]
    }
   ],
   "source": [
    "print(txt1[2:4])"
   ]
  },
  {
   "cell_type": "code",
   "execution_count": 5,
   "id": "eaf03b1c",
   "metadata": {},
   "outputs": [
    {
     "name": "stdout",
     "output_type": "stream",
     "text": [
      "mput\n"
     ]
    }
   ],
   "source": [
    "print(txt1[-6:-2])"
   ]
  },
  {
   "cell_type": "code",
   "execution_count": 6,
   "id": "20f265e8",
   "metadata": {},
   "outputs": [
    {
     "name": "stdout",
     "output_type": "stream",
     "text": [
      "COMPUTER\n"
     ]
    }
   ],
   "source": [
    "print(txt1.upper())"
   ]
  },
  {
   "cell_type": "code",
   "execution_count": 7,
   "id": "28571397",
   "metadata": {},
   "outputs": [
    {
     "name": "stdout",
     "output_type": "stream",
     "text": [
      "computer\n"
     ]
    }
   ],
   "source": [
    "print(txt1.lower())"
   ]
  },
  {
   "cell_type": "code",
   "execution_count": 8,
   "id": "2e88acd7",
   "metadata": {},
   "outputs": [
    {
     "name": "stdout",
     "output_type": "stream",
     "text": [
      "myname\n"
     ]
    }
   ],
   "source": [
    "txt2='   myname   '\n",
    "print(txt2.strip())"
   ]
  },
  {
   "cell_type": "code",
   "execution_count": 9,
   "id": "b79de8ea",
   "metadata": {},
   "outputs": [
    {
     "name": "stdout",
     "output_type": "stream",
     "text": [
      "   myName   \n"
     ]
    }
   ],
   "source": [
    "print(txt2.replace('n','N'))"
   ]
  },
  {
   "cell_type": "code",
   "execution_count": 10,
   "id": "18cb5c14",
   "metadata": {},
   "outputs": [
    {
     "name": "stdout",
     "output_type": "stream",
     "text": [
      "['saurabh', ' soni']\n"
     ]
    }
   ],
   "source": [
    "txt3='saurabh, soni'\n",
    "print(txt3.split(','))"
   ]
  },
  {
   "cell_type": "code",
   "execution_count": 11,
   "id": "53fc3660",
   "metadata": {},
   "outputs": [
    {
     "name": "stdout",
     "output_type": "stream",
     "text": [
      "['saurab', ', soni']\n"
     ]
    }
   ],
   "source": [
    "print(txt3.split('h'))"
   ]
  },
  {
   "cell_type": "code",
   "execution_count": 12,
   "id": "a5fc9802",
   "metadata": {},
   "outputs": [
    {
     "name": "stdout",
     "output_type": "stream",
     "text": [
      "my age is 26\n"
     ]
    }
   ],
   "source": [
    "txt4='my age is {}'\n",
    "age=26\n",
    "print(txt4.format(age))"
   ]
  },
  {
   "cell_type": "code",
   "execution_count": 13,
   "id": "f6c48b1c",
   "metadata": {},
   "outputs": [
    {
     "name": "stdout",
     "output_type": "stream",
     "text": [
      "Journey\n"
     ]
    }
   ],
   "source": [
    "txt5='journey'\n",
    "print(txt5.capitalize())"
   ]
  },
  {
   "cell_type": "code",
   "execution_count": 14,
   "id": "e841aab6",
   "metadata": {},
   "outputs": [
    {
     "name": "stdout",
     "output_type": "stream",
     "text": [
      "journey\n"
     ]
    }
   ],
   "source": [
    "print(txt5.casefold())"
   ]
  },
  {
   "cell_type": "code",
   "execution_count": 19,
   "id": "536833c7",
   "metadata": {},
   "outputs": [
    {
     "name": "stdout",
     "output_type": "stream",
     "text": [
      "1\n"
     ]
    }
   ],
   "source": [
    "print(txt5.count('n'))"
   ]
  },
  {
   "cell_type": "code",
   "execution_count": 27,
   "id": "bd69358c",
   "metadata": {},
   "outputs": [
    {
     "name": "stdout",
     "output_type": "stream",
     "text": [
      "4\n"
     ]
    }
   ],
   "source": [
    "txt6='hhyyyy'\n",
    "print(txt6.count('y'))"
   ]
  },
  {
   "cell_type": "code",
   "execution_count": 28,
   "id": "0b74b374",
   "metadata": {},
   "outputs": [
    {
     "name": "stdout",
     "output_type": "stream",
     "text": [
      "True\n"
     ]
    }
   ],
   "source": [
    "txt7='my laptop brand is HP'\n",
    "print(txt7.endswith('HP'))"
   ]
  },
  {
   "cell_type": "code",
   "execution_count": 29,
   "id": "312f1367",
   "metadata": {},
   "outputs": [
    {
     "name": "stdout",
     "output_type": "stream",
     "text": [
      "3\n"
     ]
    }
   ],
   "source": [
    "print(txt7.find('laptop'))"
   ]
  },
  {
   "cell_type": "code",
   "execution_count": 31,
   "id": "8c488845",
   "metadata": {},
   "outputs": [
    {
     "name": "stdout",
     "output_type": "stream",
     "text": [
      "10\n"
     ]
    }
   ],
   "source": [
    "print(txt7.index('brand'))"
   ]
  },
  {
   "cell_type": "code",
   "execution_count": 32,
   "id": "72c6dfd5",
   "metadata": {},
   "outputs": [
    {
     "name": "stdout",
     "output_type": "stream",
     "text": [
      "False\n"
     ]
    }
   ],
   "source": [
    "print(txt7.isalnum())"
   ]
  },
  {
   "cell_type": "code",
   "execution_count": 33,
   "id": "b80d6034",
   "metadata": {},
   "outputs": [
    {
     "name": "stdout",
     "output_type": "stream",
     "text": [
      "False\n"
     ]
    }
   ],
   "source": [
    "print(txt7.isalpha())"
   ]
  },
  {
   "cell_type": "code",
   "execution_count": 34,
   "id": "f9b7e8a5",
   "metadata": {},
   "outputs": [
    {
     "name": "stdout",
     "output_type": "stream",
     "text": [
      "True\n"
     ]
    }
   ],
   "source": [
    "txt8='home'\n",
    "print(txt8.islower())"
   ]
  },
  {
   "cell_type": "code",
   "execution_count": 35,
   "id": "b2db81a0",
   "metadata": {},
   "outputs": [
    {
     "name": "stdout",
     "output_type": "stream",
     "text": [
      "False\n"
     ]
    }
   ],
   "source": [
    "print(txt8.isupper())"
   ]
  },
  {
   "cell_type": "code",
   "execution_count": 36,
   "id": "1272d661",
   "metadata": {},
   "outputs": [
    {
     "name": "stdout",
     "output_type": "stream",
     "text": [
      "True\n"
     ]
    }
   ],
   "source": [
    "print(txt8.isprintable())"
   ]
  },
  {
   "cell_type": "code",
   "execution_count": 37,
   "id": "328577dc",
   "metadata": {},
   "outputs": [
    {
     "name": "stdout",
     "output_type": "stream",
     "text": [
      "wHAT ARE you DOING\n"
     ]
    }
   ],
   "source": [
    "txt9='What are YOU doing'\n",
    "print(txt9.swapcase())"
   ]
  },
  {
   "cell_type": "code",
   "execution_count": 40,
   "id": "4c31fa9c",
   "metadata": {},
   "outputs": [
    {
     "name": "stdout",
     "output_type": "stream",
     "text": [
      "000000000000What are YOU doing\n"
     ]
    }
   ],
   "source": [
    "print(txt9.zfill(30))"
   ]
  }
 ],
 "metadata": {
  "kernelspec": {
   "display_name": "Python 3",
   "language": "python",
   "name": "python3"
  },
  "language_info": {
   "codemirror_mode": {
    "name": "ipython",
    "version": 3
   },
   "file_extension": ".py",
   "mimetype": "text/x-python",
   "name": "python",
   "nbconvert_exporter": "python",
   "pygments_lexer": "ipython3",
   "version": "3.8.8"
  }
 },
 "nbformat": 4,
 "nbformat_minor": 5
}
