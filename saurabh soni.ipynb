{
 "cells": [
  {
   "cell_type": "markdown",
   "id": "kYah-hBK3ekc",
   "metadata": {
    "id": "kYah-hBK3ekc"
   },
   "source": [
    "#### 1) Count words and characters in below string (excluding space):\n",
    "#### mainString = 'Data Science 2021 batch'"
   ]
  },
  {
   "cell_type": "code",
   "execution_count": 1,
   "id": "soGknXal3dD1",
   "metadata": {
    "id": "soGknXal3dD1"
   },
   "outputs": [
    {
     "name": "stdout",
     "output_type": "stream",
     "text": [
      "Characters: 16\n",
      "words: 4\n"
     ]
    }
   ],
   "source": [
    "mainString = 'Data Science 2021 batch'\n",
    "num=char=sp=0\n",
    "for ch in mainString:\n",
    "   if ch.isdigit():\n",
    "      num=num+1\n",
    "   elif ch.isalpha():\n",
    "      char=char+1\n",
    "   else:\n",
    "      sp=sp+1\n",
    "print(\"Characters:\", char)\n",
    "print(\"words:\", sp+1)\n"
   ]
  },
  {
   "cell_type": "markdown",
   "id": "Erac5wZp3zZK",
   "metadata": {
    "id": "Erac5wZp3zZK"
   },
   "source": [
    "#### 2) Extract mobile number from the given string :\n",
    "#### mainString = 'My number is 8888888888'\n"
   ]
  },
  {
   "cell_type": "code",
   "execution_count": 3,
   "id": "fsHkWnOd3406",
   "metadata": {
    "id": "fsHkWnOd3406"
   },
   "outputs": [
    {
     "name": "stdout",
     "output_type": "stream",
     "text": [
      "The original string : My number is 8888888888\n",
      "The numbers list is : [8888888888]\n"
     ]
    }
   ],
   "source": [
    "mainString = 'My number is 8888888888'\n",
    "  \n",
    "print(\"The original string : \" + mainString)\n",
    "  \n",
    "num = [int(i) for i in mainString.split() if i.isdigit()]\n",
    "\n",
    "print(\"The numbers list is : \" + str(num))"
   ]
  },
  {
   "cell_type": "markdown",
   "id": "Q7x_9WH1397D",
   "metadata": {
    "id": "Q7x_9WH1397D"
   },
   "source": [
    "#### 3) Extract email address :\n",
    "#### mainString = 'My email is  abc@g.com\n"
   ]
  },
  {
   "cell_type": "code",
   "execution_count": 9,
   "id": "GrWs94rl4ATb",
   "metadata": {
    "id": "GrWs94rl4ATb"
   },
   "outputs": [
    {
     "name": "stdout",
     "output_type": "stream",
     "text": [
      "email: ['abc@g.com']\n"
     ]
    }
   ],
   "source": [
    "import re\n",
    "mainString = 'My email is abc@g.com'\n",
    "\n",
    "emails = re.findall(r\"[a-z0-9\\.\\-+_]+@[a-z0-9\\.\\-+_]+\\.[a-z]+\", mainString)\n",
    "print ('email:',emails)"
   ]
  },
  {
   "cell_type": "markdown",
   "id": "amWc7SGL4Cli",
   "metadata": {
    "id": "amWc7SGL4Cli"
   },
   "source": [
    "#### 4) Fibonacci series for 10 numbers"
   ]
  },
  {
   "cell_type": "code",
   "execution_count": 12,
   "id": "umeq0sRg4C3T",
   "metadata": {
    "id": "umeq0sRg4C3T"
   },
   "outputs": [
    {
     "name": "stdout",
     "output_type": "stream",
     "text": [
      "How many terms? 10\n",
      "Fibonacci sequence:\n",
      "0\n",
      "1\n",
      "1\n",
      "2\n",
      "3\n",
      "5\n",
      "8\n",
      "13\n",
      "21\n",
      "34\n"
     ]
    }
   ],
   "source": [
    "nterms = int(input(\"How many terms? \"))\n",
    "\n",
    "n1, n2 = 0, 1\n",
    "count = 0\n",
    "\n",
    "if nterms <= 0:\n",
    "   print(\"Please enter a positive integer\")\n",
    "elif nterms == 1:\n",
    "   print(\"Fibonacci sequence upto\",nterms,\":\")\n",
    "   print(n1)\n",
    "else:\n",
    "   print(\"Fibonacci sequence:\")\n",
    "   while count < nterms:\n",
    "       print(n1)\n",
    "       nth = n1 + n2\n",
    "       # update values\n",
    "       n1 = n2\n",
    "       n2 = nth\n",
    "       count += 1"
   ]
  },
  {
   "cell_type": "markdown",
   "id": "alKtm12F4IYk",
   "metadata": {
    "id": "alKtm12F4IYk"
   },
   "source": [
    "#### 5) Remove a value from string by taking index from the user\n",
    "##### example :\n",
    "##### stringName = \"Hello Participants 2020\"\n",
    "##### index = 2\n",
    "##### output : \"Helo Participants 2020\"\n"
   ]
  },
  {
   "cell_type": "code",
   "execution_count": 15,
   "id": "gj8BXNvd4I07",
   "metadata": {
    "id": "gj8BXNvd4I07"
   },
   "outputs": [
    {
     "name": "stdout",
     "output_type": "stream",
     "text": [
      "enter index number to remove:2\n",
      "Helo Participants 2020\n"
     ]
    }
   ],
   "source": [
    "def fun_remove(string, i): \n",
    "    a = string[ : i] \n",
    "    b = string[i + 1: ]\n",
    "    return a + b\n",
    "\n",
    "string = \"Hello Participants 2020\"\n",
    "i=int(input('enter index number to remove:'))\n",
    "print(fun_remove(string, i))"
   ]
  },
  {
   "cell_type": "markdown",
   "id": "6e1091cd",
   "metadata": {
    "id": "6e1091cd"
   },
   "source": [
    "#### 6)\tWrite a program, which takes two inputs as ‘start’ and ‘end’ from the user, and you have to print prime numbers between the defined range and also the sum of all those prime numbers too.\n"
   ]
  },
  {
   "cell_type": "code",
   "execution_count": 19,
   "id": "cyQzveZL3Juh",
   "metadata": {
    "id": "cyQzveZL3Juh"
   },
   "outputs": [
    {
     "name": "stdout",
     "output_type": "stream",
     "text": [
      "enter start range:5\n",
      "enter end range:12\n",
      "Prime numbers between 5 and 12 are:\n",
      "5\n",
      "7\n",
      "11\n",
      "Sum is: 23\n"
     ]
    }
   ],
   "source": [
    "start = int(input('enter start range:'))\n",
    "end = int(input('enter end range:'))\n",
    "primesum = 0\n",
    "print(\"Prime numbers between\", start, \"and\", end, \"are:\")\n",
    "\n",
    "for num in range(start, end + 1):\n",
    "   if num > 1:\n",
    "       for i in range(2, num):\n",
    "           if (num % i) == 0:\n",
    "               break\n",
    "       else:\n",
    "           print(num)\n",
    "           primesum = primesum + num\n",
    "        \n",
    "print('Sum is:',primesum)"
   ]
  },
  {
   "cell_type": "markdown",
   "id": "f656ddf1",
   "metadata": {
    "id": "f656ddf1"
   },
   "source": [
    "#### 7)\tWrite a program which takes a string from the user and you have to check whether that string is palindrome or not.\n"
   ]
  },
  {
   "cell_type": "code",
   "execution_count": 23,
   "id": "e4B_0LZy3LBz",
   "metadata": {
    "id": "e4B_0LZy3LBz"
   },
   "outputs": [
    {
     "name": "stdout",
     "output_type": "stream",
     "text": [
      "enter any string:ghyu\n",
      "No its not a pallindrome\n"
     ]
    }
   ],
   "source": [
    "s = input('enter any string:')\n",
    "def isPalindrome(s):\n",
    "    return s == s[::-1]\n",
    "\n",
    "ans = isPalindrome(s)\n",
    " \n",
    "if ans:\n",
    "    print(\"Yes its a pallindrome\")\n",
    "else:\n",
    "    print(\"No its not a pallindrome\")"
   ]
  },
  {
   "cell_type": "markdown",
   "id": "ede452a4",
   "metadata": {
    "id": "ede452a4"
   },
   "source": [
    "#### 8)\tWrite a program which takes 5 numbers as input from the user and you have to create a dictionary which stores those numbers as keys and their squared result as values of those keys."
   ]
  },
  {
   "cell_type": "code",
   "execution_count": 34,
   "id": "NsTarvwC3Mfs",
   "metadata": {
    "id": "NsTarvwC3Mfs"
   },
   "outputs": [
    {
     "name": "stdout",
     "output_type": "stream",
     "text": [
      "Enter first number2\n",
      "Enter second number3\n",
      "Enter third number4\n",
      "Enter fourth number5\n",
      "Enter fifth number6\n",
      "{2: 4, 3: 9, 4: 16, 5: 25, 6: 36}\n"
     ]
    }
   ],
   "source": [
    "num1 = int(input(\"Enter first number\"))\n",
    "num2 = int(input(\"Enter second number\"))\n",
    "num3 = int(input(\"Enter third number\"))\n",
    "num4 = int(input(\"Enter fourth number\"))\n",
    "num5 = int(input(\"Enter fifth number\"))\n",
    "\n",
    "sqnum1 = num1*num1\n",
    "sqnum2 = num2*num2\n",
    "sqnum3 = num3*num3\n",
    "sqnum4 = num4*num4\n",
    "sqnum5 = num5*num5\n",
    "\n",
    "sampledict = dict({num1 : sqnum1 ,num2 : sqnum2 ,num3 : sqnum3 ,num4 : sqnum4 ,num5 : sqnum5})\n",
    "print(sampledict)"
   ]
  },
  {
   "cell_type": "markdown",
   "id": "44c14e0e",
   "metadata": {
    "id": "44c14e0e"
   },
   "source": [
    "#### 9)\tWrite a program which takes a number from the user and the output should be the factorial of that number. Solve this question using a loop.\n",
    "\n"
   ]
  },
  {
   "cell_type": "code",
   "execution_count": 27,
   "id": "5ld-78U53NH8",
   "metadata": {
    "id": "5ld-78U53NH8"
   },
   "outputs": [
    {
     "name": "stdout",
     "output_type": "stream",
     "text": [
      "enter any number:6\n",
      "Factorial is : 720\n"
     ]
    }
   ],
   "source": [
    "def findfact(num):\n",
    "    factorial = 1\n",
    "    if num < 0:\n",
    "       print(\"Sorry, factorial does not exist for negative numbers\")\n",
    "    elif num == 0:\n",
    "       print(\"The factorial of 0 is 1\")\n",
    "    else:\n",
    "       for i in range(1,num + 1):\n",
    "           factorial = factorial*i\n",
    "    return factorial\n",
    "\n",
    "num = int(input('enter any number:'))\n",
    "\n",
    "print('Factorial is :',findfact(num))"
   ]
  },
  {
   "cell_type": "markdown",
   "id": "8ffaa44c",
   "metadata": {
    "id": "8ffaa44c"
   },
   "source": [
    "#### 10)\tWrite a program which asks a user every time whether he wants to enter a number or not, if the user enters ‘yes’, then take an input and print the sum of all numbers that he has given till now, otherwise end the program."
   ]
  },
  {
   "cell_type": "code",
   "execution_count": 33,
   "id": "99ec770a",
   "metadata": {
    "id": "99ec770a"
   },
   "outputs": [
    {
     "name": "stdout",
     "output_type": "stream",
     "text": [
      "Do you want to input number?(yes/no):yes\n",
      "enter number:5\n",
      "Sum uptill now : 5\n",
      "Do you want to input number?(yes/no):yes\n",
      "enter number:4\n",
      "Sum uptill now : 9\n",
      "Do you want to input number?(yes/no):yes\n",
      "enter number:5\n",
      "Sum uptill now : 14\n",
      "Do you want to input number?(yes/no):no\n",
      "you have entered: [5, 4, 5]\n"
     ]
    }
   ],
   "source": [
    "lst = []\n",
    "sumlist = 0\n",
    "\n",
    "while True:\n",
    "    answer = input(\"Do you want to input number?(yes/no):\")\n",
    "    if answer.lower() == 'yes':\n",
    "        num = int(input(\"enter number:\"))\n",
    "        sumlist = sumlist + num\n",
    "        print(\"Sum uptill now :\",sumlist)\n",
    "        lst.append(num)\n",
    "    elif answer.lower() == 'no':\n",
    "        break\n",
    "    else: \n",
    "        print(\"Wrong input!\")\n",
    "\n",
    "print(\"you have entered:\",lst)\n"
   ]
  },
  {
   "cell_type": "code",
   "execution_count": null,
   "id": "32b2c30a",
   "metadata": {
    "id": "32b2c30a"
   },
   "outputs": [],
   "source": []
  }
 ],
 "metadata": {
  "colab": {
   "name": "Home_Assignment-1.ipynb",
   "provenance": []
  },
  "kernelspec": {
   "display_name": "Python 3",
   "language": "python",
   "name": "python3"
  },
  "language_info": {
   "codemirror_mode": {
    "name": "ipython",
    "version": 3
   },
   "file_extension": ".py",
   "mimetype": "text/x-python",
   "name": "python",
   "nbconvert_exporter": "python",
   "pygments_lexer": "ipython3",
   "version": "3.8.8"
  }
 },
 "nbformat": 4,
 "nbformat_minor": 5
}
