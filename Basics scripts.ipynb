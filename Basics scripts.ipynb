{
 "cells": [
  {
   "cell_type": "code",
   "execution_count": 4,
   "id": "08307beb",
   "metadata": {},
   "outputs": [
    {
     "name": "stdout",
     "output_type": "stream",
     "text": [
      "enter your name:saurabh\n",
      "your name is : saurabh\n"
     ]
    }
   ],
   "source": [
    "a=input('enter your name:')\n",
    "print('your name is : ' + a)"
   ]
  },
  {
   "cell_type": "code",
   "execution_count": 5,
   "id": "27af3d70",
   "metadata": {},
   "outputs": [
    {
     "name": "stdout",
     "output_type": "stream",
     "text": [
      "saurabh\n"
     ]
    }
   ],
   "source": [
    "print(a)"
   ]
  },
  {
   "cell_type": "code",
   "execution_count": 3,
   "id": "00dc4b59",
   "metadata": {
    "scrolled": true
   },
   "outputs": [
    {
     "name": "stdout",
     "output_type": "stream",
     "text": [
      "enter user name:saurabh\n",
      "enter password:12345\n",
      "your username is:saurabh and password is:12345\n"
     ]
    }
   ],
   "source": [
    "u = input('enter user name:')\n",
    "p = input('enter password:')\n",
    "print('your username is:' + u + ' and password is:' +p)"
   ]
  },
  {
   "cell_type": "code",
   "execution_count": 4,
   "id": "58f5ef6a",
   "metadata": {},
   "outputs": [
    {
     "name": "stdout",
     "output_type": "stream",
     "text": [
      "enter user name:saurabh\n",
      "enter password:123\n",
      "saurabh is ur username and 123 is ur password\n"
     ]
    }
   ],
   "source": [
    "u = input('enter user name:')\n",
    "p = input('enter password:')\n",
    "print('{} is ur username and {} is ur password'.format(u,p))"
   ]
  },
  {
   "cell_type": "code",
   "execution_count": 5,
   "id": "403b941c",
   "metadata": {},
   "outputs": [
    {
     "name": "stdout",
     "output_type": "stream",
     "text": [
      "my age is : 26\n"
     ]
    }
   ],
   "source": [
    "age = 26\n",
    "print('my age is :' , age)"
   ]
  },
  {
   "cell_type": "code",
   "execution_count": 6,
   "id": "ef6bf292",
   "metadata": {},
   "outputs": [
    {
     "name": "stdout",
     "output_type": "stream",
     "text": [
      "1\n",
      "2\n",
      "3\n",
      "4\n",
      "5\n",
      "6\n",
      "7\n",
      "8\n",
      "9\n"
     ]
    },
    {
     "data": {
      "text/plain": [
       "'loop completed.'"
      ]
     },
     "execution_count": 6,
     "metadata": {},
     "output_type": "execute_result"
    }
   ],
   "source": [
    "def mufun1(a,b):\n",
    "    for i in range(a,b):\n",
    "        print(i)\n",
    "    return \"loop completed.\"\n",
    "\n",
    "mufun1(1,10)"
   ]
  },
  {
   "cell_type": "code",
   "execution_count": 8,
   "id": "a557e931",
   "metadata": {},
   "outputs": [
    {
     "name": "stdout",
     "output_type": "stream",
     "text": [
      "saurabh\n",
      "sajjan\n",
      "kumar\n"
     ]
    },
    {
     "data": {
      "text/plain": [
       "('saurabh', 'sajjan', 'kumar')"
      ]
     },
     "execution_count": 8,
     "metadata": {},
     "output_type": "execute_result"
    }
   ],
   "source": [
    "def func(*name):\n",
    "    for name1 in name:\n",
    "        print(name1)\n",
    "    return name\n",
    "\n",
    "func('saurabh','sajjan','kumar')"
   ]
  },
  {
   "cell_type": "code",
   "execution_count": 7,
   "id": "c6975f66",
   "metadata": {},
   "outputs": [
    {
     "name": "stdout",
     "output_type": "stream",
     "text": [
      "enter a number:20\n",
      "1  is a factor\n",
      "2  is a factor\n",
      "4  is a factor\n",
      "5  is a factor\n",
      "10  is a factor\n",
      "20  is a factor\n"
     ]
    }
   ],
   "source": [
    "num = int(input('enter a number:'))\n",
    "for i in range(1,num+1):\n",
    "    if num%i == 0:\n",
    "        print(i,' is a factor')\n",
    "    "
   ]
  }
 ],
 "metadata": {
  "kernelspec": {
   "display_name": "Python 3",
   "language": "python",
   "name": "python3"
  },
  "language_info": {
   "codemirror_mode": {
    "name": "ipython",
    "version": 3
   },
   "file_extension": ".py",
   "mimetype": "text/x-python",
   "name": "python",
   "nbconvert_exporter": "python",
   "pygments_lexer": "ipython3",
   "version": "3.8.8"
  }
 },
 "nbformat": 4,
 "nbformat_minor": 5
}
