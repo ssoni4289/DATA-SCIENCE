{
 "cells": [
  {
   "cell_type": "markdown",
   "metadata": {
    "id": "ZoX1vsne78hk"
   },
   "source": [
    "**Write a program to make a calculator which perform operations like Addition , Subtraction , Multiplication etc on Two numbers input by the user.**"
   ]
  },
  {
   "cell_type": "code",
   "execution_count": 9,
   "metadata": {
    "id": "6Sy0uQp78Y8p"
   },
   "outputs": [
    {
     "name": "stdout",
     "output_type": "stream",
     "text": [
      "Enter first number:5\n",
      "Enter second number:10\n",
      "What would you like to perform?\n",
      "1.Addition\n",
      "2.Subtraction\n",
      "3.Multiplication\n",
      "4.Division\n",
      "Enter your choice:4\n",
      "Result: 0.5\n"
     ]
    }
   ],
   "source": [
    "def addtn(a,b):\n",
    "    return a+b\n",
    "\n",
    "def subt(a,b):\n",
    "    return a-b\n",
    "\n",
    "def mult(a,b):\n",
    "    return a*b\n",
    "\n",
    "def divi(a,b):\n",
    "    return a/b\n",
    "\n",
    "a = int(input(\"Enter first number:\"))\n",
    "b = int(input(\"Enter second number:\"))\n",
    "while True:\n",
    "    print(\"What would you like to perform?\")\n",
    "    print(\"1.Addition\")\n",
    "    print(\"2.Subtraction\")\n",
    "    print(\"3.Multiplication\")\n",
    "    print(\"4.Division\")\n",
    "    choice = int(input(\"Enter your choice:\"))\n",
    "    if choice == 1:\n",
    "        ans = addtn(a,b)\n",
    "        print(\"Result:\",ans)\n",
    "        break\n",
    "    elif choice == 2:\n",
    "        ans = subt(a,b)\n",
    "        print(\"Result:\",ans)\n",
    "        break\n",
    "    elif choice == 3:\n",
    "        ans = mult(a,b)\n",
    "        print(\"Result:\",ans)\n",
    "        break\n",
    "    elif choice == 4:\n",
    "        ans = divi(a,b)\n",
    "        print(\"Result:\",ans)\n",
    "        break\n",
    "    else:\n",
    "        print(\"Wrong choice!\")\n",
    "        continue"
   ]
  }
 ],
 "metadata": {
  "colab": {
   "authorship_tag": "ABX9TyNe8YZD5btoP1UW6AbLYric",
   "name": "Untitled0.ipynb",
   "provenance": []
  },
  "kernelspec": {
   "display_name": "Python 3",
   "language": "python",
   "name": "python3"
  },
  "language_info": {
   "codemirror_mode": {
    "name": "ipython",
    "version": 3
   },
   "file_extension": ".py",
   "mimetype": "text/x-python",
   "name": "python",
   "nbconvert_exporter": "python",
   "pygments_lexer": "ipython3",
   "version": "3.8.8"
  }
 },
 "nbformat": 4,
 "nbformat_minor": 1
}
